{
  "nbformat": 4,
  "nbformat_minor": 0,
  "metadata": {
    "colab": {
      "name": "Train MNIST using convnet in Tensorflow.ipynb",
      "version": "0.3.2",
      "provenance": [],
      "collapsed_sections": []
    },
    "kernelspec": {
      "name": "python3",
      "display_name": "Python 3"
    },
    "accelerator": "GPU"
  },
  "cells": [
    {
      "cell_type": "markdown",
      "metadata": {
        "id": "iQjHqsmTAVLU",
        "colab_type": "text"
      },
      "source": [
        "## Training MNIST using convnet\n",
        "\n",
        "- Stop training process using callbacks when train accuracy reach 99.8%\n",
        "- Evaluate model on test set\n",
        "- Predict on test images for verification \n",
        "- Train data size = 60000 and Test data size = 10000\n"
      ]
    },
    {
      "cell_type": "code",
      "metadata": {
        "id": "sfQRyaJWAIdg",
        "colab_type": "code",
        "colab": {
          "base_uri": "https://localhost:8080/",
          "height": 34
        },
        "outputId": "5762b2eb-297a-480c-ffbe-cc8f9bf18a79"
      },
      "source": [
        "import tensorflow as tf\n",
        "import numpy as np\n",
        "print(tf.__version__)"
      ],
      "execution_count": 1,
      "outputs": [
        {
          "output_type": "stream",
          "text": [
            "1.14.0\n"
          ],
          "name": "stdout"
        }
      ]
    },
    {
      "cell_type": "code",
      "metadata": {
        "id": "ULnfK6cXYkVp",
        "colab_type": "code",
        "colab": {}
      },
      "source": [
        "# Load MMNIST dataset, reshape and normalize training and test images\n",
        "mnist = tf.keras.datasets.mnist\n",
        "(training_images, training_labels), (test_images, test_labels) = mnist.load_data()\n",
        "\n",
        "training_images = training_images.reshape(60000,28,28,1)\n",
        "training_images = training_images / 255.0\n",
        "\n",
        "test_images = test_images.reshape(10000, 28, 28, 1)\n",
        "test_images = test_images / 255.0\n"
      ],
      "execution_count": 0,
      "outputs": []
    },
    {
      "cell_type": "code",
      "metadata": {
        "id": "-c2H32cYZKt8",
        "colab_type": "code",
        "colab": {}
      },
      "source": [
        "# define callback \n",
        "class mycallback(tf.keras.callbacks.Callback):\n",
        "  def on_epoch_end(self, epoch, logs={}):\n",
        "    if(logs.get('acc')>0.998):\n",
        "      print(\"\\nReached 99.8% train accuracy so cancelling further training!\")\n",
        "      self.model.stop_training = True\n",
        "\n",
        "callbacks = mycallback()      "
      ],
      "execution_count": 0,
      "outputs": []
    },
    {
      "cell_type": "code",
      "metadata": {
        "id": "yIgWWseSZL3W",
        "colab_type": "code",
        "colab": {
          "base_uri": "https://localhost:8080/",
          "height": 87
        },
        "outputId": "116d0214-65a6-48b1-ff8e-cf6bdd8c98ec"
      },
      "source": [
        "# define model archtitecture\n",
        "model = tf.keras.models.Sequential([\n",
        "    tf.keras.layers.Conv2D(64, (3,3), activation=tf.nn.relu, input_shape=(28,28,1)),\n",
        "    tf.keras.layers.MaxPooling2D(2,2),\n",
        "    tf.keras.layers.Flatten(),\n",
        "    tf.keras.layers.Dense(128, activation=tf.nn.relu),\n",
        "    tf.keras.layers.Dense(10, activation=tf.nn.softmax)\n",
        "])\n",
        "\n",
        "model.compile(optimizer='adam', loss='sparse_categorical_crossentropy', metrics=['accuracy'])\n"
      ],
      "execution_count": 4,
      "outputs": [
        {
          "output_type": "stream",
          "text": [
            "WARNING:tensorflow:From /usr/local/lib/python3.6/dist-packages/tensorflow/python/ops/init_ops.py:1251: calling VarianceScaling.__init__ (from tensorflow.python.ops.init_ops) with dtype is deprecated and will be removed in a future version.\n",
            "Instructions for updating:\n",
            "Call initializer instance with the dtype argument instead of passing it to the constructor\n"
          ],
          "name": "stdout"
        }
      ]
    },
    {
      "cell_type": "code",
      "metadata": {
        "id": "WBacJG0xaqe3",
        "colab_type": "code",
        "colab": {
          "base_uri": "https://localhost:8080/",
          "height": 370
        },
        "outputId": "8b7f09da-67fe-444c-e58b-ef4e64c32891"
      },
      "source": [
        "# train model\n",
        "model.fit(training_images, training_labels, epochs=20, callbacks=[callbacks])"
      ],
      "execution_count": 5,
      "outputs": [
        {
          "output_type": "stream",
          "text": [
            "Epoch 1/20\n",
            "60000/60000 [==============================] - 13s 220us/sample - loss: 0.1389 - acc: 0.9592\n",
            "Epoch 2/20\n",
            "60000/60000 [==============================] - 10s 172us/sample - loss: 0.0490 - acc: 0.9849\n",
            "Epoch 3/20\n",
            "60000/60000 [==============================] - 10s 171us/sample - loss: 0.0294 - acc: 0.9908\n",
            "Epoch 4/20\n",
            "60000/60000 [==============================] - 10s 173us/sample - loss: 0.0191 - acc: 0.9939\n",
            "Epoch 5/20\n",
            "60000/60000 [==============================] - 10s 172us/sample - loss: 0.0130 - acc: 0.9959\n",
            "Epoch 6/20\n",
            "60000/60000 [==============================] - 10s 172us/sample - loss: 0.0093 - acc: 0.9969\n",
            "Epoch 7/20\n",
            "60000/60000 [==============================] - 10s 173us/sample - loss: 0.0071 - acc: 0.9977\n",
            "Epoch 8/20\n",
            "60000/60000 [==============================] - 10s 172us/sample - loss: 0.0067 - acc: 0.9979\n",
            "Epoch 9/20\n",
            "59872/60000 [============================>.] - ETA: 0s - loss: 0.0050 - acc: 0.9983\n",
            "Reached 99.8% train accuracy so cancelling further training!\n",
            "60000/60000 [==============================] - 10s 172us/sample - loss: 0.0049 - acc: 0.9983\n"
          ],
          "name": "stdout"
        },
        {
          "output_type": "execute_result",
          "data": {
            "text/plain": [
              "<tensorflow.python.keras.callbacks.History at 0x7f0f9d723828>"
            ]
          },
          "metadata": {
            "tags": []
          },
          "execution_count": 5
        }
      ]
    },
    {
      "cell_type": "code",
      "metadata": {
        "id": "qD3ph2nRa85Y",
        "colab_type": "code",
        "colab": {
          "base_uri": "https://localhost:8080/",
          "height": 67
        },
        "outputId": "fd57c55e-b994-420f-9430-3d116a79484d"
      },
      "source": [
        "# model evaluate\n",
        "test_loss, test_acc = model.evaluate(test_images, test_labels)\n",
        "print(\"\\nTest accuracy={}\".format(test_acc))"
      ],
      "execution_count": 7,
      "outputs": [
        {
          "output_type": "stream",
          "text": [
            "10000/10000 [==============================] - 1s 89us/sample - loss: 0.0565 - acc: 0.9862\n",
            "\n",
            "Test accuracy=0.9861999750137329\n"
          ],
          "name": "stdout"
        }
      ]
    },
    {
      "cell_type": "code",
      "metadata": {
        "id": "Cib0tTLhb2XV",
        "colab_type": "code",
        "colab": {
          "base_uri": "https://localhost:8080/",
          "height": 370
        },
        "outputId": "f161fa58-ddbe-450d-fe2e-fcdceb9336ec"
      },
      "source": [
        "# run prediction on test images to verify accuracy\n",
        "import matplotlib.pyplot as plt\n",
        "\n",
        "#test_image = np.expand_dims(test_images[1], axis=0)\n",
        "prediction = model.predict(np.expand_dims(test_images[7],axis=0))\n",
        "plt.imshow(test_images[7].reshape(28,28))\n",
        "\n",
        "print(\"\\nGround Truth={}\".format(test_labels[7]))\n",
        "print(\"\\nModel Prediction={}\".format(np.argmax(prediction)))\n",
        "print(\"\\nPrediction Prob={}\".format(np.max(prediction)))"
      ],
      "execution_count": 35,
      "outputs": [
        {
          "output_type": "stream",
          "text": [
            "\n",
            "Ground Truth=9\n",
            "\n",
            "Model Prediction=9\n",
            "\n",
            "Prediction Prob=0.9999973773956299\n"
          ],
          "name": "stdout"
        },
        {
          "output_type": "display_data",
          "data": {
            "image/png": "[encoded data removed]",
            "text/plain": [
              "<Figure size 432x288 with 1 Axes>"
            ]
          },
          "metadata": {
            "tags": []
          }
        }
      ]
    },
    {
      "cell_type": "code",
      "metadata": {
        "id": "eKhclNxEc3uG",
        "colab_type": "code",
        "colab": {}
      },
      "source": [
        ""
      ],
      "execution_count": 0,
      "outputs": []
    }
  ]
}